{
 "cells": [
  {
   "cell_type": "code",
   "execution_count": null,
   "id": "a8192eba-1b2c-4bb7-a202-1b8611e71d9d",
   "metadata": {},
   "outputs": [],
   "source": []
  }
 ],
 "metadata": {
  "kernelspec": {
   "display_name": "",
   "name": ""
  },
  "language_info": {
   "name": ""
  }
 },
 "nbformat": 4,
 "nbformat_minor": 5
}
